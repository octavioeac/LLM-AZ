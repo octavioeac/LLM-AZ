{
  "nbformat": 4,
  "nbformat_minor": 0,
  "metadata": {
    "colab": {
      "provenance": [],
      "mount_file_id": "https://github.com/octavioeac/LLM-AZ/blob/main/prototype_llm.ipynb",
      "authorship_tag": "ABX9TyN/GQjnIUN5aBPBJBQrxTOr",
      "include_colab_link": true
    },
    "kernelspec": {
      "name": "python3",
      "display_name": "Python 3"
    },
    "language_info": {
      "name": "python"
    }
  },
  "cells": [
    {
      "cell_type": "markdown",
      "metadata": {
        "id": "view-in-github",
        "colab_type": "text"
      },
      "source": [
        "<a href=\"https://colab.research.google.com/github/octavioeac/LLM-AZ/blob/main/prototype_llm.ipynb\" target=\"_parent\"><img src=\"https://colab.research.google.com/assets/colab-badge.svg\" alt=\"Open In Colab\"/></a>"
      ]
    },
    {
      "cell_type": "markdown",
      "source": [
        "## \"SparseHeadClassifier: Multi-Sparse Attention Transformer for Text Quality Classification in Technical QA Descriptions\""
      ],
      "metadata": {
        "id": "3Q0WmFkd1olv"
      }
    },
    {
      "cell_type": "markdown",
      "source": [
        "# Abstract:\n",
        "In this work, we introduce SparseHeadClassifier, a Transformer-based architecture designed for evaluating the quality of textual descriptions in technical QA environments such as JIRA. Our model leverages a novel multi-sparse attention mechanism, where each attention head applies a distinct sparsity strategy—such as top-k, local, or full attention—allowing the model to capture diverse contextual patterns efficiently. Each attention head is followed by a dimensionality-reducing compression step before concatenation, improving computational efficiency and preserving salient features. The final classification layer outputs a quality score (Good, Regular, or Poor), enabling automated evaluation of QA documentation. Experiments show that the SparseHeadClassifier balances expressiveness and efficiency, and can serve as a robust tool for assessing the consistency and clarity of issue tracking text data in real-world software projects. *texto en cursiva*"
      ],
      "metadata": {
        "id": "TWdbxiVR2d7C"
      }
    },
    {
      "cell_type": "markdown",
      "source": [
        "SparseHeadClassifier is a Transformer model that automatically analyzes text descriptions from platforms like JIRA and classifies them as Good, Regular, or Poor. What makes it unique is that each attention head uses a different sparsity strategy—some focus only on the top-k important tokens, others look at nearby tokens, and some attend fully. This gives the model a richer view of the text while being more efficient. Each head compresses its output, and then everything is passed to a neural network that makes the final quality prediction. It's ideal for identifying low-quality, inconsistent, or vague bug or test descriptions in software teams."
      ],
      "metadata": {
        "id": "ahO89F_o2sU8"
      }
    },
    {
      "cell_type": "code",
      "execution_count": 2,
      "metadata": {
        "id": "9Eu8ih2zXTX9"
      },
      "outputs": [],
      "source": [
        "import pandas as pd"
      ]
    },
    {
      "cell_type": "code",
      "source": [
        "import pandas as pd\n",
        "\n",
        "# URL al archivo raw en GitLab\n",
        "url = \"/content/drive/MyDrive/autozone/AutoZone JIRA 2025-07-01T21_24_24-0500(in).csv\"\n",
        "\n",
        "# Leer el archivo CSV directamente desde GitLab\n",
        "df = pd.read_csv(url)\n",
        "\n",
        "# Mostrar las primeras filas para verificar\n",
        "print(df.head())"
      ],
      "metadata": {
        "colab": {
          "base_uri": "https://localhost:8080/"
        },
        "id": "w6qe2uefnL4w",
        "outputId": "d70e2f10-0b32-4e62-a218-01fcf0864ec6"
      },
      "execution_count": 12,
      "outputs": [
        {
          "output_type": "stream",
          "name": "stdout",
          "text": [
            "                                             Summary Issue key  Issue id  \\\n",
            "0  Verify Autozoner SelfCheckout Actions Courtesy...  QR-26591    746670   \n",
            "1            Verify GapToEarn Qualifies No AzRewards  QR-26590    746697   \n",
            "2  Verify Login to Autozone Rewards account with ...  QR-26589    746647   \n",
            "3  Verify Age Restricted Modal not shown by addin...  QR-26588    746612   \n",
            "4  Verify SaveCart button is enabled by opening A...  QR-26587    746719   \n",
            "\n",
            "  Issue Type                      Labels                    Labels.1  \\\n",
            "0       Test  POS_Regression_Handover_II                    Reviewed   \n",
            "1       Test  POS_Regression_Handover_II                    Reviewed   \n",
            "2       Test  POS_Regression_Handover_II                    Reviewed   \n",
            "3       Test        AgilityJIRASyncissue  POS_Regression_Handover_II   \n",
            "4       Test  POS_Regression_Handover_II                    Reviewed   \n",
            "\n",
            "                         Labels.2                        Labels.3 Labels.4  \\\n",
            "0  Standard_Regression_Automation                             NaN      NaN   \n",
            "1  Standard_Regression_Automation                             NaN      NaN   \n",
            "2  Standard_Regression_Automation                             NaN      NaN   \n",
            "3                        Reviewed  Standard_Regression_Automation      NaN   \n",
            "4  Standard_Regression_Automation                             NaN      NaN   \n",
            "\n",
            "  Labels.5  ... Custom field (Target type)  Custom field (Team)  \\\n",
            "0      NaN  ...         Traffic Allocation                  NaN   \n",
            "1      NaN  ...                        NaN                  NaN   \n",
            "2      NaN  ...         Traffic Allocation                  NaN   \n",
            "3      NaN  ...         Traffic Allocation                  NaN   \n",
            "4      NaN  ...                        NaN                  NaN   \n",
            "\n",
            "   Custom field (Team).1  Custom field (Test Cases)  \\\n",
            "0                    NaN                        NaN   \n",
            "1                    NaN                        NaN   \n",
            "2                    NaN                        NaN   \n",
            "3                    NaN                        NaN   \n",
            "4                    NaN                        NaN   \n",
            "\n",
            "   Custom field (Test Identifier)  Custom field (Test Identifier).1  \\\n",
            "0              Automated_Selenium                        Regression   \n",
            "1              Automated_Selenium                        Regression   \n",
            "2              Automated_Selenium                        Regression   \n",
            "3              Automated_Selenium                        Regression   \n",
            "4              Automated_Selenium                        Regression   \n",
            "\n",
            "  Custom field (Zephyr Teststep)  Custom field (gitBranch)  \\\n",
            "0                            NaN                       NaN   \n",
            "1                            NaN                       NaN   \n",
            "2                            NaN                       NaN   \n",
            "3                            NaN                       NaN   \n",
            "4                            NaN                       NaN   \n",
            "\n",
            "   Custom field (gitCommitsReferenced)  Comment  \n",
            "0                                  NaN      NaN  \n",
            "1                                  NaN      NaN  \n",
            "2                                  NaN      NaN  \n",
            "3                                  NaN      NaN  \n",
            "4                                  NaN      NaN  \n",
            "\n",
            "[5 rows x 74 columns]\n"
          ]
        }
      ]
    },
    {
      "cell_type": "code",
      "source": [
        "headers = list(df.columns)\n",
        "print(headers)"
      ],
      "metadata": {
        "id": "N3KHiM9C-_yc",
        "outputId": "c03cff8e-c209-4c4a-b8fd-c65ec156d1ab",
        "colab": {
          "base_uri": "https://localhost:8080/"
        }
      },
      "execution_count": 13,
      "outputs": [
        {
          "output_type": "stream",
          "name": "stdout",
          "text": [
            "['Summary', 'Issue key', 'Issue id', 'Issue Type', 'Labels', 'Labels.1', 'Labels.2', 'Labels.3', 'Labels.4', 'Labels.5', 'Description', 'Custom field (API Environment)', 'Custom field (ARS #)', 'Custom field (ARS Title)', 'Custom field (Agility URL)', 'Custom field (Application Name)', 'Custom field (Business Process)', 'Custom field (Classifications)', 'Custom field (Connection String)', 'Custom field (Country)', 'Custom field (Database Name)', 'Custom field (Difference between versions)', 'Custom field (Environment)', 'Custom field (Epic Link)', 'Custom field (Expected Outcome)', 'Custom field (Expected Output)', 'Custom field (Experience Type)', 'Custom field (Feature/Menu)', 'Custom field (Feature/Menu).1', 'Custom field (Flagged)', 'Custom field (Hardware)', 'Custom field (Issue Owner)', 'Custom field (Manual Test Case)', 'Custom field (Original story points)', 'Custom field (PO Review)', 'Custom field (Parent Link)', 'Custom field (Platform/Framework)', 'Custom field (Pre-Deployment)', 'Custom field (Primary metric)', 'Custom field (Problem to solve)', 'Custom field (Process/Steps to reproduce the defect)', 'Custom field (Product/Application)', 'Custom field (Progress)', 'Custom field (Report/Table)', 'Custom field (Request Item)', 'Custom field (Request Owner)', 'Custom field (Request reason)', 'Custom field (Requested by Date)', 'Custom field (Required Assistance)', 'Custom field (Risk)', 'Custom field (SM ID)', 'Custom field (Secondary metric)', 'Custom field (Service Type)', 'Custom field (Severity)', 'Custom field (Size)', 'Custom field (Solution)', 'Custom field (Special Procedures Documentation)', 'Custom field (Special Procedures Flag)', 'Sprint', 'Custom field (Sprinted)', 'Custom field (Stack)', 'Custom field (Status)', 'Custom field (Target end)', 'Custom field (Target start)', 'Custom field (Target type)', 'Custom field (Team)', 'Custom field (Team).1', 'Custom field (Test Cases)', 'Custom field (Test Identifier)', 'Custom field (Test Identifier).1', 'Custom field (Zephyr Teststep)', 'Custom field (gitBranch)', 'Custom field (gitCommitsReferenced)', 'Comment']\n"
          ]
        }
      ]
    },
    {
      "cell_type": "code",
      "source": [
        "columns_to_keep = [\n",
        "    'Issue key',\n",
        "    'Summary',\n",
        "    'Issue Type',\n",
        "    'Labels',\n",
        "    'Labels.1', 'Labels.2', 'Labels.3', 'Labels.4', 'Labels.5',\n",
        "    'Description',\n",
        "    'Custom field (Expected Outcome)',\n",
        "    'Custom field (Environment)',\n",
        "    'Custom field (Severity)',\n",
        "    'Custom field (Test Identifier)',\n",
        "    'Custom field (Zephyr Teststep)',\n",
        "    'Sprint',\n",
        "    'Custom field (Team)'\n",
        "]\n",
        "\n",
        "# Filtrar solo las columnas que existen en el archivo (para evitar errores si faltan algunas)\n",
        "columns_present = [col for col in columns_to_keep if col in df.columns]\n",
        "\n",
        "# Crear DataFrame reducido\n",
        "df_reduced = df[columns_present]\n",
        "\n",
        "# Verificar resultado\n",
        "print(\"\\nColumnas mantenidas:\")\n",
        "print(df_reduced.columns)\n",
        "\n",
        "print(\"\\nPrimeras filas del DataFrame limpio:\")\n",
        "print(df_reduced.head())"
      ],
      "metadata": {
        "id": "AklgZ8YNAOhF",
        "outputId": "af401b79-c38a-4746-9a32-f8e0e3fb4d9d",
        "colab": {
          "base_uri": "https://localhost:8080/"
        }
      },
      "execution_count": 14,
      "outputs": [
        {
          "output_type": "stream",
          "name": "stdout",
          "text": [
            "\n",
            "Columnas mantenidas:\n",
            "Index(['Issue key', 'Summary', 'Issue Type', 'Labels', 'Labels.1', 'Labels.2',\n",
            "       'Labels.3', 'Labels.4', 'Labels.5', 'Description',\n",
            "       'Custom field (Expected Outcome)', 'Custom field (Environment)',\n",
            "       'Custom field (Severity)', 'Custom field (Test Identifier)',\n",
            "       'Custom field (Zephyr Teststep)', 'Sprint', 'Custom field (Team)'],\n",
            "      dtype='object')\n",
            "\n",
            "Primeras filas del DataFrame limpio:\n",
            "  Issue key                                            Summary Issue Type  \\\n",
            "0  QR-26591  Verify Autozoner SelfCheckout Actions Courtesy...       Test   \n",
            "1  QR-26590            Verify GapToEarn Qualifies No AzRewards       Test   \n",
            "2  QR-26589  Verify Login to Autozone Rewards account with ...       Test   \n",
            "3  QR-26588  Verify Age Restricted Modal not shown by addin...       Test   \n",
            "4  QR-26587  Verify SaveCart button is enabled by opening A...       Test   \n",
            "\n",
            "                       Labels                    Labels.1  \\\n",
            "0  POS_Regression_Handover_II                    Reviewed   \n",
            "1  POS_Regression_Handover_II                    Reviewed   \n",
            "2  POS_Regression_Handover_II                    Reviewed   \n",
            "3        AgilityJIRASyncissue  POS_Regression_Handover_II   \n",
            "4  POS_Regression_Handover_II                    Reviewed   \n",
            "\n",
            "                         Labels.2                        Labels.3 Labels.4  \\\n",
            "0  Standard_Regression_Automation                             NaN      NaN   \n",
            "1  Standard_Regression_Automation                             NaN      NaN   \n",
            "2  Standard_Regression_Automation                             NaN      NaN   \n",
            "3                        Reviewed  Standard_Regression_Automation      NaN   \n",
            "4  Standard_Regression_Automation                             NaN      NaN   \n",
            "\n",
            "  Labels.5                                        Description  \\\n",
            "0      NaN                                                NaN   \n",
            "1      NaN  Verify Gap To Earn section is displayed with t...   \n",
            "2      NaN  Verify Login to Autozone Rewards account with ...   \n",
            "3      NaN                                                NaN   \n",
            "4      NaN  Verify Autozoner Save Cart is displayed in Sel...   \n",
            "\n",
            "   Custom field (Expected Outcome)  Custom field (Environment)  \\\n",
            "0                              NaN                         NaN   \n",
            "1                              NaN                         NaN   \n",
            "2                              NaN                         NaN   \n",
            "3                              NaN                         NaN   \n",
            "4                              NaN                         NaN   \n",
            "\n",
            "   Custom field (Severity) Custom field (Test Identifier)  \\\n",
            "0                      NaN             Automated_Selenium   \n",
            "1                      NaN             Automated_Selenium   \n",
            "2                      NaN             Automated_Selenium   \n",
            "3                      NaN             Automated_Selenium   \n",
            "4                      NaN             Automated_Selenium   \n",
            "\n",
            "   Custom field (Zephyr Teststep) Sprint  Custom field (Team)  \n",
            "0                             NaN    NaN                  NaN  \n",
            "1                             NaN    NaN                  NaN  \n",
            "2                             NaN    NaN                  NaN  \n",
            "3                             NaN    NaN                  NaN  \n",
            "4                             NaN    NaN                  NaN  \n"
          ]
        }
      ]
    },
    {
      "cell_type": "code",
      "source": [
        "#Limpieza de toda la información para que podamos hacer un promot con todo lo funcional\n",
        "def has_meaningful_data(row):\n",
        "    has_summary = pd.notna(row.get('Summary')) and str(row['Summary']).strip() != \"\"\n",
        "    has_description = pd.notna(row.get('Description')) and str(row['Description']).strip() != \"\"\n",
        "    has_expected = pd.notna(row.get('Custom field (Expected Outcome)')) and str(row['Custom field (Expected Outcome)']).strip() != \"\"\n",
        "    has_labels = any(pd.notna(row.get(label)) and str(row[label]).strip() != \"\" for label in ['Labels', 'Labels.1', 'Labels.2', 'Labels.3', 'Labels.4', 'Labels.5'])\n",
        "    return has_summary and (has_description or has_expected or has_labels)\n",
        "\n",
        "# Aplica el filtro\n",
        "df_filtered = df_reduced[df_reduced.apply(has_meaningful_data, axis=1)]\n",
        "\n",
        "# Verifica cuántas filas quedaron\n",
        "print(f\"Total de casos antes de limpiar: {len(df_reduced)}\")\n",
        "print(f\"Total de casos con información completa: {len(df_filtered)}\")"
      ],
      "metadata": {
        "id": "43xGN7YnBGdc",
        "outputId": "d00360ba-7fc1-4137-c84c-1b5f1503ad3f",
        "colab": {
          "base_uri": "https://localhost:8080/"
        }
      },
      "execution_count": 16,
      "outputs": [
        {
          "output_type": "stream",
          "name": "stdout",
          "text": [
            "Total de casos antes de limpiar: 120\n",
            "Total de casos con información completa: 120\n"
          ]
        }
      ]
    },
    {
      "cell_type": "code",
      "source": [
        "# Construye los prompts para los primeros 10 casos\n",
        "for idx, row in df_filtered.head(10).iterrows():\n",
        "    prompt_parts = []\n",
        "\n",
        "    # Summary y Description primero\n",
        "    if pd.notna(row['Summary']) and str(row['Summary']).strip():\n",
        "        prompt_parts.append(f\"Summary: {row['Summary']}\")\n",
        "    if pd.notna(row.get('Description')) and str(row['Description']).strip():\n",
        "        prompt_parts.append(f\"Description: {row['Description']}\")\n",
        "\n",
        "    # Labels\n",
        "    labels = [str(row[label]) for label in ['Labels', 'Labels.1', 'Labels.2', 'Labels.3', 'Labels.4', 'Labels.5'] if pd.notna(row.get(label)) and str(row[label]).strip()]\n",
        "    if labels:\n",
        "        prompt_parts.append(f\"Labels: {', '.join(labels)}\")\n",
        "\n",
        "    # Otros campos contextuales clave\n",
        "    for field in ['Custom field (Expected Outcome)', 'Custom field (Environment)', 'Custom field (Severity)', 'Custom field (Test Identifier)', 'Custom field (Zephyr Teststep)', 'Sprint', 'Custom field (Team)']:\n",
        "        if pd.notna(row.get(field)) and str(row[field]).strip():\n",
        "            # Mostrar el nombre del campo entre paréntesis si es \"Custom field (...)\"\n",
        "            pretty_name = field.split('(')[-1].strip(')') if '(' in field else field\n",
        "            prompt_parts.append(f\"{pretty_name}: {row[field]}\")\n",
        "\n",
        "    prompt = \"Genera un caso de prueba con los siguientes datos:\\n\" + \"\\n\".join(prompt_parts)\n",
        "\n",
        "    print(f\"\\n--- Prompt #{idx + 1} ---\")\n",
        "    print(prompt)\n"
      ],
      "metadata": {
        "id": "ioMoR74JBbSN",
        "outputId": "698cce6f-8205-400d-94cf-8a4bb2cc5a41",
        "colab": {
          "base_uri": "https://localhost:8080/"
        }
      },
      "execution_count": 17,
      "outputs": [
        {
          "output_type": "stream",
          "name": "stdout",
          "text": [
            "\n",
            "--- Prompt #1 ---\n",
            "Genera un caso de prueba con los siguientes datos:\n",
            "Summary: Verify Autozoner SelfCheckout Actions Courtesy Discount with GreyShirt password\n",
            "Labels: POS_Regression_Handover_II, Reviewed, Standard_Regression_Automation\n",
            "Test Identifier: Automated_Selenium\n",
            "\n",
            "--- Prompt #2 ---\n",
            "Genera un caso de prueba con los siguientes datos:\n",
            "Summary: Verify GapToEarn Qualifies No AzRewards\n",
            "Description: Verify Gap To Earn section is displayed with the SCO changes and Sign-In button is working as expected\n",
            "Labels: POS_Regression_Handover_II, Reviewed, Standard_Regression_Automation\n",
            "Test Identifier: Automated_Selenium\n",
            "\n",
            "--- Prompt #3 ---\n",
            "Genera un caso de prueba con los siguientes datos:\n",
            "Summary: Verify Login to Autozone Rewards account with invalid Rewards Id for Espanol\n",
            "Description: Verify Login to Autozone Rewards account with invalid Rewards Id for Espanol\n",
            "Labels: POS_Regression_Handover_II, Reviewed, Standard_Regression_Automation\n",
            "Test Identifier: Automated_Selenium\n",
            "\n",
            "--- Prompt #4 ---\n",
            "Genera un caso de prueba con los siguientes datos:\n",
            "Summary: Verify Age Restricted Modal not shown by adding second age restricted item and check kdlysls file Hard Stop\n",
            "Labels: AgilityJIRASyncissue, POS_Regression_Handover_II, Reviewed, Standard_Regression_Automation\n",
            "Test Identifier: Automated_Selenium\n",
            "\n",
            "--- Prompt #5 ---\n",
            "Genera un caso de prueba con los siguientes datos:\n",
            "Summary: Verify SaveCart button is enabled by opening AutoZoner for assistance modal on SCO\n",
            "Description: Verify Autozoner Save Cart is displayed in SelfCheckout\n",
            "Labels: POS_Regression_Handover_II, Reviewed, Standard_Regression_Automation\n",
            "Test Identifier: Automated_Selenium\n",
            "\n",
            "--- Prompt #6 ---\n",
            "Genera un caso de prueba con los siguientes datos:\n",
            "Summary: Verify Rewards Customer masking From Scan ID to Phone number on SCO\n",
            "Description: Verify Rewards Customer information is masked after Scan an Customer ID and enter a Customer by Phone\n",
            "Labels: AgilityJIRASyncissue, POS_Regression_Handover_II, Reviewed, Standard_Regression_Automation\n",
            "Test Identifier: Automated_Selenium\n",
            "\n",
            "--- Prompt #7 ---\n",
            "Genera un caso de prueba con los siguientes datos:\n",
            "Summary: Verify Main page is displayed when user clicks on No Thank You button on Autozone login rewards modal\n",
            "Labels: AZRewards, POS_Regression_Handover_II, Reviewed, Standard_Regression_Automation\n",
            "Test Identifier: Automated_Selenium\n",
            "\n",
            "--- Prompt #8 ---\n",
            "Genera un caso de prueba con los siguientes datos:\n",
            "Summary: Verify Void of Age Restricted log on kdlysls File on SCO\n",
            "Labels: Age_Restricted_Item, POS_Regression_Handover_II, Reviewed, Standard_Regression_Automation\n",
            "Test Identifier: Automated_Selenium\n",
            "\n",
            "--- Prompt #9 ---\n",
            "Genera un caso de prueba con los siguientes datos:\n",
            "Summary: Verify Autozoner is able to Scan multiple merch cards and finalize the  transaction\n",
            "Labels: GiftandMerchCardEnhancements, POS_Regression_Handover_II, Standard_Regression_Automation\n",
            "Test Identifier: Automated_Selenium\n",
            "\n",
            "--- Prompt #10 ---\n",
            "Genera un caso de prueba con los siguientes datos:\n",
            "Summary: Verify GapToEarn Enable\n",
            "Description: Verify Gap To Earn section is displayed when flag is enable\n",
            "Labels: AgilityJIRASyncissue, POS_Regression_Handover_II, Reviewed, Standard_Regression_Automation\n",
            "Test Identifier: Automated_Selenium\n"
          ]
        }
      ]
    },
    {
      "cell_type": "code",
      "source": [
        "pip install torch"
      ],
      "metadata": {
        "id": "o70G9KaV1RLp",
        "outputId": "6cf01e8a-2163-4c3a-e696-7bb87a44586d",
        "colab": {
          "base_uri": "https://localhost:8080/"
        }
      },
      "execution_count": 1,
      "outputs": [
        {
          "output_type": "stream",
          "name": "stdout",
          "text": [
            "Requirement already satisfied: torch in /usr/local/lib/python3.11/dist-packages (2.6.0+cu124)\n",
            "Requirement already satisfied: filelock in /usr/local/lib/python3.11/dist-packages (from torch) (3.18.0)\n",
            "Requirement already satisfied: typing-extensions>=4.10.0 in /usr/local/lib/python3.11/dist-packages (from torch) (4.14.0)\n",
            "Requirement already satisfied: networkx in /usr/local/lib/python3.11/dist-packages (from torch) (3.5)\n",
            "Requirement already satisfied: jinja2 in /usr/local/lib/python3.11/dist-packages (from torch) (3.1.6)\n",
            "Requirement already satisfied: fsspec in /usr/local/lib/python3.11/dist-packages (from torch) (2025.3.2)\n",
            "Collecting nvidia-cuda-nvrtc-cu12==12.4.127 (from torch)\n",
            "  Downloading nvidia_cuda_nvrtc_cu12-12.4.127-py3-none-manylinux2014_x86_64.whl.metadata (1.5 kB)\n",
            "Collecting nvidia-cuda-runtime-cu12==12.4.127 (from torch)\n",
            "  Downloading nvidia_cuda_runtime_cu12-12.4.127-py3-none-manylinux2014_x86_64.whl.metadata (1.5 kB)\n",
            "Collecting nvidia-cuda-cupti-cu12==12.4.127 (from torch)\n",
            "  Downloading nvidia_cuda_cupti_cu12-12.4.127-py3-none-manylinux2014_x86_64.whl.metadata (1.6 kB)\n",
            "Collecting nvidia-cudnn-cu12==9.1.0.70 (from torch)\n",
            "  Downloading nvidia_cudnn_cu12-9.1.0.70-py3-none-manylinux2014_x86_64.whl.metadata (1.6 kB)\n",
            "Collecting nvidia-cublas-cu12==12.4.5.8 (from torch)\n",
            "  Downloading nvidia_cublas_cu12-12.4.5.8-py3-none-manylinux2014_x86_64.whl.metadata (1.5 kB)\n",
            "Collecting nvidia-cufft-cu12==11.2.1.3 (from torch)\n",
            "  Downloading nvidia_cufft_cu12-11.2.1.3-py3-none-manylinux2014_x86_64.whl.metadata (1.5 kB)\n",
            "Collecting nvidia-curand-cu12==10.3.5.147 (from torch)\n",
            "  Downloading nvidia_curand_cu12-10.3.5.147-py3-none-manylinux2014_x86_64.whl.metadata (1.5 kB)\n",
            "Collecting nvidia-cusolver-cu12==11.6.1.9 (from torch)\n",
            "  Downloading nvidia_cusolver_cu12-11.6.1.9-py3-none-manylinux2014_x86_64.whl.metadata (1.6 kB)\n",
            "Collecting nvidia-cusparse-cu12==12.3.1.170 (from torch)\n",
            "  Downloading nvidia_cusparse_cu12-12.3.1.170-py3-none-manylinux2014_x86_64.whl.metadata (1.6 kB)\n",
            "Requirement already satisfied: nvidia-cusparselt-cu12==0.6.2 in /usr/local/lib/python3.11/dist-packages (from torch) (0.6.2)\n",
            "Requirement already satisfied: nvidia-nccl-cu12==2.21.5 in /usr/local/lib/python3.11/dist-packages (from torch) (2.21.5)\n",
            "Requirement already satisfied: nvidia-nvtx-cu12==12.4.127 in /usr/local/lib/python3.11/dist-packages (from torch) (12.4.127)\n",
            "Collecting nvidia-nvjitlink-cu12==12.4.127 (from torch)\n",
            "  Downloading nvidia_nvjitlink_cu12-12.4.127-py3-none-manylinux2014_x86_64.whl.metadata (1.5 kB)\n",
            "Requirement already satisfied: triton==3.2.0 in /usr/local/lib/python3.11/dist-packages (from torch) (3.2.0)\n",
            "Requirement already satisfied: sympy==1.13.1 in /usr/local/lib/python3.11/dist-packages (from torch) (1.13.1)\n",
            "Requirement already satisfied: mpmath<1.4,>=1.1.0 in /usr/local/lib/python3.11/dist-packages (from sympy==1.13.1->torch) (1.3.0)\n",
            "Requirement already satisfied: MarkupSafe>=2.0 in /usr/local/lib/python3.11/dist-packages (from jinja2->torch) (3.0.2)\n",
            "Downloading nvidia_cublas_cu12-12.4.5.8-py3-none-manylinux2014_x86_64.whl (363.4 MB)\n",
            "\u001b[2K   \u001b[90m━━━━━━━━━━━━━━━━━━━━━━━━━━━━━━━━━━━━━━━━\u001b[0m \u001b[32m363.4/363.4 MB\u001b[0m \u001b[31m4.2 MB/s\u001b[0m eta \u001b[36m0:00:00\u001b[0m\n",
            "\u001b[?25hDownloading nvidia_cuda_cupti_cu12-12.4.127-py3-none-manylinux2014_x86_64.whl (13.8 MB)\n",
            "\u001b[2K   \u001b[90m━━━━━━━━━━━━━━━━━━━━━━━━━━━━━━━━━━━━━━━━\u001b[0m \u001b[32m13.8/13.8 MB\u001b[0m \u001b[31m28.5 MB/s\u001b[0m eta \u001b[36m0:00:00\u001b[0m\n",
            "\u001b[?25hDownloading nvidia_cuda_nvrtc_cu12-12.4.127-py3-none-manylinux2014_x86_64.whl (24.6 MB)\n",
            "\u001b[2K   \u001b[90m━━━━━━━━━━━━━━━━━━━━━━━━━━━━━━━━━━━━━━━━\u001b[0m \u001b[32m24.6/24.6 MB\u001b[0m \u001b[31m71.8 MB/s\u001b[0m eta \u001b[36m0:00:00\u001b[0m\n",
            "\u001b[?25hDownloading nvidia_cuda_runtime_cu12-12.4.127-py3-none-manylinux2014_x86_64.whl (883 kB)\n",
            "\u001b[2K   \u001b[90m━━━━━━━━━━━━━━━━━━━━━━━━━━━━━━━━━━━━━━━━\u001b[0m \u001b[32m883.7/883.7 kB\u001b[0m \u001b[31m40.7 MB/s\u001b[0m eta \u001b[36m0:00:00\u001b[0m\n",
            "\u001b[?25hDownloading nvidia_cudnn_cu12-9.1.0.70-py3-none-manylinux2014_x86_64.whl (664.8 MB)\n",
            "\u001b[2K   \u001b[90m━━━━━━━━━━━━━━━━━━━━━━━━━━━━━━━━━━━━━━━━\u001b[0m \u001b[32m664.8/664.8 MB\u001b[0m \u001b[31m2.1 MB/s\u001b[0m eta \u001b[36m0:00:00\u001b[0m\n",
            "\u001b[?25hDownloading nvidia_cufft_cu12-11.2.1.3-py3-none-manylinux2014_x86_64.whl (211.5 MB)\n",
            "\u001b[2K   \u001b[90m━━━━━━━━━━━━━━━━━━━━━━━━━━━━━━━━━━━━━━━━\u001b[0m \u001b[32m211.5/211.5 MB\u001b[0m \u001b[31m5.8 MB/s\u001b[0m eta \u001b[36m0:00:00\u001b[0m\n",
            "\u001b[?25hDownloading nvidia_curand_cu12-10.3.5.147-py3-none-manylinux2014_x86_64.whl (56.3 MB)\n",
            "\u001b[2K   \u001b[90m━━━━━━━━━━━━━━━━━━━━━━━━━━━━━━━━━━━━━━━━\u001b[0m \u001b[32m56.3/56.3 MB\u001b[0m \u001b[31m12.4 MB/s\u001b[0m eta \u001b[36m0:00:00\u001b[0m\n",
            "\u001b[?25hDownloading nvidia_cusolver_cu12-11.6.1.9-py3-none-manylinux2014_x86_64.whl (127.9 MB)\n",
            "\u001b[2K   \u001b[90m━━━━━━━━━━━━━━━━━━━━━━━━━━━━━━━━━━━━━━━━\u001b[0m \u001b[32m127.9/127.9 MB\u001b[0m \u001b[31m7.2 MB/s\u001b[0m eta \u001b[36m0:00:00\u001b[0m\n",
            "\u001b[?25hDownloading nvidia_cusparse_cu12-12.3.1.170-py3-none-manylinux2014_x86_64.whl (207.5 MB)\n",
            "\u001b[2K   \u001b[90m━━━━━━━━━━━━━━━━━━━━━━━━━━━━━━━━━━━━━━━━\u001b[0m \u001b[32m207.5/207.5 MB\u001b[0m \u001b[31m5.5 MB/s\u001b[0m eta \u001b[36m0:00:00\u001b[0m\n",
            "\u001b[?25hDownloading nvidia_nvjitlink_cu12-12.4.127-py3-none-manylinux2014_x86_64.whl (21.1 MB)\n",
            "\u001b[2K   \u001b[90m━━━━━━━━━━━━━━━━━━━━━━━━━━━━━━━━━━━━━━━━\u001b[0m \u001b[32m21.1/21.1 MB\u001b[0m \u001b[31m59.1 MB/s\u001b[0m eta \u001b[36m0:00:00\u001b[0m\n",
            "\u001b[?25hInstalling collected packages: nvidia-nvjitlink-cu12, nvidia-curand-cu12, nvidia-cufft-cu12, nvidia-cuda-runtime-cu12, nvidia-cuda-nvrtc-cu12, nvidia-cuda-cupti-cu12, nvidia-cublas-cu12, nvidia-cusparse-cu12, nvidia-cudnn-cu12, nvidia-cusolver-cu12\n",
            "  Attempting uninstall: nvidia-nvjitlink-cu12\n",
            "    Found existing installation: nvidia-nvjitlink-cu12 12.5.82\n",
            "    Uninstalling nvidia-nvjitlink-cu12-12.5.82:\n",
            "      Successfully uninstalled nvidia-nvjitlink-cu12-12.5.82\n",
            "  Attempting uninstall: nvidia-curand-cu12\n",
            "    Found existing installation: nvidia-curand-cu12 10.3.6.82\n",
            "    Uninstalling nvidia-curand-cu12-10.3.6.82:\n",
            "      Successfully uninstalled nvidia-curand-cu12-10.3.6.82\n",
            "  Attempting uninstall: nvidia-cufft-cu12\n",
            "    Found existing installation: nvidia-cufft-cu12 11.2.3.61\n",
            "    Uninstalling nvidia-cufft-cu12-11.2.3.61:\n",
            "      Successfully uninstalled nvidia-cufft-cu12-11.2.3.61\n",
            "  Attempting uninstall: nvidia-cuda-runtime-cu12\n",
            "    Found existing installation: nvidia-cuda-runtime-cu12 12.5.82\n",
            "    Uninstalling nvidia-cuda-runtime-cu12-12.5.82:\n",
            "      Successfully uninstalled nvidia-cuda-runtime-cu12-12.5.82\n",
            "  Attempting uninstall: nvidia-cuda-nvrtc-cu12\n",
            "    Found existing installation: nvidia-cuda-nvrtc-cu12 12.5.82\n",
            "    Uninstalling nvidia-cuda-nvrtc-cu12-12.5.82:\n",
            "      Successfully uninstalled nvidia-cuda-nvrtc-cu12-12.5.82\n",
            "  Attempting uninstall: nvidia-cuda-cupti-cu12\n",
            "    Found existing installation: nvidia-cuda-cupti-cu12 12.5.82\n",
            "    Uninstalling nvidia-cuda-cupti-cu12-12.5.82:\n",
            "      Successfully uninstalled nvidia-cuda-cupti-cu12-12.5.82\n",
            "  Attempting uninstall: nvidia-cublas-cu12\n",
            "    Found existing installation: nvidia-cublas-cu12 12.5.3.2\n",
            "    Uninstalling nvidia-cublas-cu12-12.5.3.2:\n",
            "      Successfully uninstalled nvidia-cublas-cu12-12.5.3.2\n",
            "  Attempting uninstall: nvidia-cusparse-cu12\n",
            "    Found existing installation: nvidia-cusparse-cu12 12.5.1.3\n",
            "    Uninstalling nvidia-cusparse-cu12-12.5.1.3:\n",
            "      Successfully uninstalled nvidia-cusparse-cu12-12.5.1.3\n",
            "  Attempting uninstall: nvidia-cudnn-cu12\n",
            "    Found existing installation: nvidia-cudnn-cu12 9.3.0.75\n",
            "    Uninstalling nvidia-cudnn-cu12-9.3.0.75:\n",
            "      Successfully uninstalled nvidia-cudnn-cu12-9.3.0.75\n",
            "  Attempting uninstall: nvidia-cusolver-cu12\n",
            "    Found existing installation: nvidia-cusolver-cu12 11.6.3.83\n",
            "    Uninstalling nvidia-cusolver-cu12-11.6.3.83:\n",
            "      Successfully uninstalled nvidia-cusolver-cu12-11.6.3.83\n",
            "Successfully installed nvidia-cublas-cu12-12.4.5.8 nvidia-cuda-cupti-cu12-12.4.127 nvidia-cuda-nvrtc-cu12-12.4.127 nvidia-cuda-runtime-cu12-12.4.127 nvidia-cudnn-cu12-9.1.0.70 nvidia-cufft-cu12-11.2.1.3 nvidia-curand-cu12-10.3.5.147 nvidia-cusolver-cu12-11.6.1.9 nvidia-cusparse-cu12-12.3.1.170 nvidia-nvjitlink-cu12-12.4.127\n"
          ]
        }
      ]
    }
  ]
}